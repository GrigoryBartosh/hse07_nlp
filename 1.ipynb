{
 "cells": [
  {
   "cell_type": "code",
   "execution_count": 1,
   "metadata": {},
   "outputs": [],
   "source": [
    "import os\n",
    "\n",
    "import xml.etree.ElementTree as ET\n",
    "\n",
    "PATH_DICT = os.path.join('data', 'dict.opcorpora.xml')\n",
    "PATH_ANNOT = os.path.join('data', 'annot.opcorpora.no_ambig.xml')\n",
    "\n",
    "LIST_CONJ = ['а', 'и', 'или', 'но', 'что', 'чтобы']\n",
    "LIST_PR = ['возле', 'для', 'до', 'за', 'между', 'на', 'по', 'при', 'среди', 'у', 'через']\n",
    "LIST_ADV = ['бы', 'видимо', 'вот', 'же', 'затем', 'итак', 'ли', 'наверно', 'не', 'ни', 'потом', 'тогда', 'только', 'уже']\n",
    "\n",
    "LIST_DELIMS = ['.', ',', '!', '?', '\\n']\n",
    "\n",
    "PATH_INPUT = os.path.join('data', 'input.txt')\n",
    "PATH_OUTPUT = os.path.join('data', 'output.txt')"
   ]
  },
  {
   "cell_type": "code",
   "execution_count": 2,
   "metadata": {},
   "outputs": [],
   "source": [
    "def get_tag(tag):\n",
    "    dct = [\n",
    "        (['INFN', 'GRND', 'PRTF', 'PRTS', 'VERB'], 'V'),\n",
    "        (['ADVB', 'INTJ', 'PRCL', 'PRED'], 'ADV'),\n",
    "        (['ADJF', 'ADJS', 'COMP'], 'A'),\n",
    "        (['NOUN'], 'S'),\n",
    "        (['PREP'], 'PR'),\n",
    "        (['CONJ'], 'CONJ')\n",
    "    ]\n",
    "\n",
    "    for cs, t in dct:\n",
    "        if tag in cs:\n",
    "            return t\n",
    "\n",
    "    return tag"
   ]
  },
  {
   "cell_type": "code",
   "execution_count": 3,
   "metadata": {},
   "outputs": [],
   "source": [
    "root_dict = ET.parse(PATH_DICT).getroot()"
   ]
  },
  {
   "cell_type": "code",
   "execution_count": 4,
   "metadata": {},
   "outputs": [],
   "source": [
    "lemmas = root_dict.findall('lemmata/lemma')\n",
    "\n",
    "lammas_ids = [l.get('id') for l in lemmas]\n",
    "lemmas_graph = dict((id, id) for id in lammas_ids)\n",
    "id_to_lemmas = dict((id, l) for id, l in zip(lammas_ids, lemmas))"
   ]
  },
  {
   "cell_type": "code",
   "execution_count": 5,
   "metadata": {},
   "outputs": [],
   "source": [
    "links = root_dict.findall('links/link')\n",
    "\n",
    "edges = [(l.get('to'), l.get('from'))for l in links if l.get('type') != '26']\n",
    "for a, b in edges:\n",
    "    lemmas_graph[a] = lemmas_graph[b]"
   ]
  },
  {
   "cell_type": "code",
   "execution_count": 6,
   "metadata": {},
   "outputs": [],
   "source": [
    "word_to_inf = {}\n",
    "\n",
    "for l in lemmas:\n",
    "    id = lemmas_graph[l.get('id')]\n",
    "    inf = id_to_lemmas[id][0].get('t')\n",
    "    tag = get_tag(id_to_lemmas[id][0][0].get('v'))\n",
    "    for f in l[1:]:\n",
    "        w = f.get('t')\n",
    "        if w not in word_to_inf:\n",
    "            word_to_inf[w] = set()\n",
    "        word_to_inf[w].add((inf, tag))"
   ]
  },
  {
   "cell_type": "code",
   "execution_count": 7,
   "metadata": {},
   "outputs": [],
   "source": [
    "root_annot = ET.parse(PATH_ANNOT).getroot()"
   ]
  },
  {
   "cell_type": "code",
   "execution_count": 8,
   "metadata": {},
   "outputs": [],
   "source": [
    "tokens = root_annot.findall('./text/paragraphs/paragraph/sentence/tokens/token')\n",
    "inf_distr = {}\n",
    "for t in tokens:\n",
    "    w = t[0].get('t').lower()\n",
    "    inf = t[0][0][0].get('t')\n",
    "    tag = get_tag(t[0][0][0][0].get('v'))\n",
    "    if w not in inf_distr:\n",
    "        inf_distr[w] = {(inf, tag): 0}\n",
    "    inf_distr[w][(inf, tag)] = inf_distr[w].get((inf, tag), 0) + 1"
   ]
  },
  {
   "cell_type": "code",
   "execution_count": 9,
   "metadata": {},
   "outputs": [],
   "source": [
    "def get_inf(word):\n",
    "    if word in LIST_CONJ:\n",
    "        return word, 'CONJ'\n",
    "    #if word in LIST_PR:\n",
    "    #    return word, 'PR'\n",
    "    if word in LIST_ADV:\n",
    "        return word, 'ADV'\n",
    "    \n",
    "    if word not in word_to_inf:\n",
    "        if len(word) >= 2 and (word[-2:] in ['ть', 'ся']):\n",
    "            return word, \"V\"\n",
    "        return word, \"ADV\"\n",
    "    \n",
    "    infs = list(word_to_inf[word])\n",
    "    distr = inf_distr[word] if word in inf_distr else {}\n",
    "    cnts = [distr[inf] if inf in distr else 1 for inf in infs]\n",
    "    return sorted(zip(cnts, infs))[-1][1]"
   ]
  },
  {
   "cell_type": "code",
   "execution_count": 10,
   "metadata": {},
   "outputs": [],
   "source": [
    "res = []\n",
    "\n",
    "with open(PATH_INPUT) as f_in:\n",
    "    for s in f_in:\n",
    "        for d in LIST_DELIMS:\n",
    "            s = s.replace(d, ' ')\n",
    "        ws = list(filter(lambda w: len(w), s.split(' ')))\n",
    "        ws = [w.lower() for w in ws]\n",
    "        infs = [get_inf(w) for w in ws]\n",
    "        lres = ' '.join([w + '{' + inf + '=' + tag + '}' for w, (inf, tag) in zip(ws, infs)])\n",
    "        res += [lres]\n",
    "        \n",
    "res = '\\n'.join(res)\n",
    "\n",
    "with open(PATH_OUTPUT, 'w') as f_out:\n",
    "    f_out.write(res)"
   ]
  }
 ],
 "metadata": {
  "kernelspec": {
   "display_name": "Python 3",
   "language": "python",
   "name": "python3"
  },
  "language_info": {
   "codemirror_mode": {
    "name": "ipython",
    "version": 3
   },
   "file_extension": ".py",
   "mimetype": "text/x-python",
   "name": "python",
   "nbconvert_exporter": "python",
   "pygments_lexer": "ipython3",
   "version": "3.6.6"
  }
 },
 "nbformat": 4,
 "nbformat_minor": 2
}
