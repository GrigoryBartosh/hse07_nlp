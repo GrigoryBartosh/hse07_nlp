{
  "nbformat": 4,
  "nbformat_minor": 0,
  "metadata": {
    "kernelspec": {
      "name": "python3",
      "display_name": "Python 3"
    },
    "language_info": {
      "codemirror_mode": {
        "name": "ipython",
        "version": 3
      },
      "file_extension": ".py",
      "mimetype": "text/x-python",
      "name": "python",
      "nbconvert_exporter": "python",
      "pygments_lexer": "ipython3",
      "version": "3.6.6"
    },
    "colab": {
      "name": "2.ipynb",
      "provenance": [],
      "include_colab_link": true
    },
    "accelerator": "GPU"
  },
  "cells": [
    {
      "cell_type": "markdown",
      "metadata": {
        "id": "view-in-github",
        "colab_type": "text"
      },
      "source": [
        "<a href=\"https://colab.research.google.com/github/GrigoryBartosh/hse07_nlp/blob/master/2.ipynb\" target=\"_parent\"><img src=\"https://colab.research.google.com/assets/colab-badge.svg\" alt=\"Open In Colab\"/></a>"
      ]
    },
    {
      "cell_type": "code",
      "metadata": {
        "id": "KEFKJ8N3ASVn",
        "colab_type": "code",
        "colab": {}
      },
      "source": [
        "! pip install transformers"
      ],
      "execution_count": 0,
      "outputs": []
    },
    {
      "cell_type": "code",
      "metadata": {
        "id": "vxiSNWcvUHxP",
        "colab_type": "code",
        "colab": {}
      },
      "source": [
        "import os\n",
        "\n",
        "import numpy as np\n",
        "from sklearn.model_selection import train_test_split\n",
        "\n",
        "import torch\n",
        "import torch.nn as nn\n",
        "import torch.optim as optim\n",
        "import torch.utils.data as data\n",
        "import torch.nn.functional as F\n",
        "\n",
        "from transformers import BertTokenizer, BertModel\n",
        "\n",
        "from tqdm import tqdm\n",
        "import matplotlib.pyplot as plt\n",
        "\n",
        "import logging\n",
        "logging.basicConfig(level=logging.CRITICAL)\n",
        "\n",
        "PATH_DATASET_TEXTS = os.path.join('data', 'texts_train.txt')\n",
        "PATH_DATASET_SCORES = os.path.join('data', 'scores_train.txt')\n",
        "PATH_DATASET_TEST = os.path.join('data', 'test.txt')\n",
        "PATH_RESULTS = os.path.join('data', 'results.txt')\n",
        "\n",
        "MAX_TEXT_LEN = 256\n",
        "\n",
        "EPOCHS_1 = 10\n",
        "EPOCHS_2 = 50\n",
        "BATCH_SIZE = 32\n",
        "LEARNING_RATE_1 = 0.0001\n",
        "LEARNING_RATE_2 = 0.00003\n",
        "W_L2_NORM = 0.0\n",
        "\n",
        "device = torch.device('cuda:0' if torch.cuda.is_available() else 'cpu')"
      ],
      "execution_count": 0,
      "outputs": []
    },
    {
      "cell_type": "code",
      "metadata": {
        "id": "-46xvDR3yYTR",
        "colab_type": "code",
        "colab": {}
      },
      "source": [
        "with open(PATH_DATASET_TEXTS, 'r') as file:\n",
        "    dataset_texts = file.readlines()\n",
        "    \n",
        "with open(PATH_DATASET_SCORES, 'r') as file:\n",
        "    dataset_scores = file.readlines()\n",
        "\n",
        "x_train, x_val, y_train, y_val = train_test_split(\n",
        "    dataset_texts, dataset_scores, test_size=0.1)\n",
        "train_data = list(zip(x_train, y_train))\n",
        "val_data = list(zip(x_val, y_val))"
      ],
      "execution_count": 0,
      "outputs": []
    },
    {
      "cell_type": "code",
      "metadata": {
        "id": "cNaV7dtKyYVk",
        "colab_type": "code",
        "colab": {}
      },
      "source": [
        "tokenizer = BertTokenizer.from_pretrained(\n",
        "    'bert-base-multilingual-cased',\n",
        "    do_lower_case=False\n",
        ")\n",
        "\n",
        "def text_collate_fn(texts):\n",
        "    texts = [text[:-1] for text in texts]\n",
        "    for c in '.,!?\"()':\n",
        "        texts = [text.replace(c, f' {c} ') for text in texts]\n",
        "    texts = [' '.join(text.split()) for text in texts]\n",
        "\n",
        "    texts = [tokenizer.tokenize(text) for text in texts]\n",
        "    texts = [text[:MAX_TEXT_LEN - 2] for text in texts]\n",
        "    texts = [tokenizer.convert_tokens_to_ids(text) for text in texts]\n",
        "    texts = [[tokenizer.cls_token_id] + text + [tokenizer.sep_token_id] for text in texts]\n",
        "    max_len = max([len(text) for text in texts])\n",
        "    masks = [[1] * len(text) + [0] * (max_len - len(text)) for text in texts]\n",
        "    texts = [text + [tokenizer.pad_token_id] * (max_len - len(text)) for text in texts]\n",
        "    texts = torch.LongTensor(texts)\n",
        "    masks = torch.LongTensor(masks)\n",
        "\n",
        "    return texts, masks\n",
        "\n",
        "def collate_fn(data):\n",
        "    texts, scores = zip(*data)\n",
        "\n",
        "    texts, masks = text_collate_fn(texts)\n",
        "\n",
        "    scores = [int(s) - 1 for s in scores]\n",
        "    scores = torch.tensor(scores, dtype=torch.float32)\n",
        "    \n",
        "    return texts, masks, scores\n",
        "\n",
        "train_data_loader = data.DataLoader(\n",
        "    dataset=train_data,\n",
        "    batch_size=BATCH_SIZE,\n",
        "    shuffle=True,\n",
        "    collate_fn=collate_fn\n",
        ")\n",
        "val_data_loader = data.DataLoader(\n",
        "    dataset=val_data,\n",
        "    batch_size=BATCH_SIZE,\n",
        "    shuffle=False,\n",
        "    collate_fn=collate_fn\n",
        ")"
      ],
      "execution_count": 0,
      "outputs": []
    },
    {
      "cell_type": "code",
      "metadata": {
        "id": "OX5tyt31ASV4",
        "colab_type": "code",
        "colab": {}
      },
      "source": [
        "class TextClassifier(nn.Module):\n",
        "    def __init__(self):\n",
        "        super(TextClassifier, self).__init__()\n",
        "        \n",
        "        self.bert = BertModel.from_pretrained('bert-base-multilingual-cased')\n",
        "\n",
        "        for param in self.bert.parameters():\n",
        "            param.requires_grad = False\n",
        "\n",
        "        layers = [\n",
        "            nn.Linear(768, 128),\n",
        "            nn.ReLU(),\n",
        "            nn.Dropout(p=0.5),\n",
        "            nn.Linear(128, 32),\n",
        "            nn.ReLU(),\n",
        "            nn.Dropout(p=0.3),\n",
        "            nn.Linear(32, 16),\n",
        "            nn.ReLU(),\n",
        "            nn.Dropout(p=0.2),\n",
        "            nn.Linear(16, 1),\n",
        "            nn.Sigmoid()\n",
        "        ]\n",
        "        self.layers = nn.Sequential(*layers)\n",
        "\n",
        "    def forward(self, text, mask):\n",
        "        x = self.bert(text, attention_mask=mask)[1]\n",
        "        x = self.layers(x) * 9\n",
        "        x = x.reshape(-1)\n",
        "        return x"
      ],
      "execution_count": 0,
      "outputs": []
    },
    {
      "cell_type": "code",
      "metadata": {
        "id": "P2-7SPy3bszl",
        "colab_type": "code",
        "colab": {}
      },
      "source": [
        "class RMSELoss(nn.Module):\n",
        "    def __init__(self):\n",
        "        super(RMSELoss, self).__init__()\n",
        "\n",
        "    def forward(self, x, y):\n",
        "        x = torch.round(x)\n",
        "        loss = torch.sqrt(((x - y) ** 2).mean())\n",
        "        return loss"
      ],
      "execution_count": 0,
      "outputs": []
    },
    {
      "cell_type": "code",
      "metadata": {
        "id": "_y_MZD2PEdn1",
        "colab_type": "code",
        "colab": {}
      },
      "source": [
        "class MyLoss(nn.Module):\n",
        "    def __init__(self):\n",
        "        super(MyLoss, self).__init__()\n",
        "\n",
        "    def forward(self, x, y):\n",
        "        k = 8\n",
        "        s1 = (x - y) ** 2\n",
        "        s2 = (x - y) ** k\n",
        "        s = torch.min(s1, s2 / 0.5 ** (k - 2))\n",
        "        loss = torch.sqrt(s.mean())\n",
        "        return loss"
      ],
      "execution_count": 0,
      "outputs": []
    },
    {
      "cell_type": "code",
      "metadata": {
        "id": "qV3ME8x9ASV7",
        "colab_type": "code",
        "colab": {}
      },
      "source": [
        "def train(model, criterion, metric, optimizer, epochs):\n",
        "    metrics_train = []\n",
        "    metrics_val = []\n",
        "    for _ in tqdm(range(epochs)):\n",
        "        metrics = []\n",
        "        model.train()\n",
        "        for texts, masks, scores in train_data_loader:\n",
        "            texts = texts.to(device)\n",
        "            masks = masks.to(device)\n",
        "            scores = scores.to(device)\n",
        "            \n",
        "            optimizer.zero_grad()\n",
        "\n",
        "            ps = model(texts, masks)\n",
        "            loss = criterion(ps, scores)\n",
        "\n",
        "            metrics.append(metric(ps, scores).item())\n",
        "\n",
        "            loss.backward()\n",
        "            optimizer.step()\n",
        "\n",
        "        metrics_train.append(np.array(metrics).mean())\n",
        "\n",
        "        metrics = []\n",
        "        model.eval()\n",
        "        with torch.no_grad():\n",
        "            for texts, masks, scores in val_data_loader:\n",
        "                texts = texts.to(device)\n",
        "                masks = masks.to(device)\n",
        "                scores = scores.to(device)\n",
        "                \n",
        "                ps = model(texts, masks)\n",
        "                loss = criterion(ps, scores)\n",
        "\n",
        "                metrics.append(metric(ps, scores).item())\n",
        "\n",
        "        metrics_val.append(np.array(metrics).mean())\n",
        "\n",
        "    plt.plot(range(epochs), metrics_train, label=\"train\")\n",
        "    plt.plot(range(epochs), metrics_val, label=\"val\")\n",
        "    plt.xlabel('epoch num')\n",
        "    plt.ylabel('metric')\n",
        "    plt.legend()\n",
        "    plt.show()"
      ],
      "execution_count": 0,
      "outputs": []
    },
    {
      "cell_type": "code",
      "metadata": {
        "id": "hrhrRW2mASV_",
        "colab_type": "code",
        "colab": {}
      },
      "source": [
        "model = TextClassifier()\n",
        "model.to(device)\n",
        "\n",
        "criterion = MyLoss()\n",
        "metric = RMSELoss()\n",
        "\n",
        "optimizer = optim.Adam(\n",
        "    filter(lambda p: p.requires_grad, model.parameters()),\n",
        "    LEARNING_RATE_1,\n",
        "    weight_decay=W_L2_NORM\n",
        ")\n",
        "\n",
        "train(model, criterion, metric, optimizer, EPOCHS_1)"
      ],
      "execution_count": 0,
      "outputs": []
    },
    {
      "cell_type": "code",
      "metadata": {
        "id": "h2y5i6l3eR0i",
        "colab_type": "code",
        "colab": {}
      },
      "source": [
        "for param in model.parameters():\n",
        "    param.requires_grad = True\n",
        "\n",
        "optimizer = optim.Adam(\n",
        "    filter(lambda p: p.requires_grad, model.parameters()),\n",
        "    LEARNING_RATE_2,\n",
        "    weight_decay=W_L2_NORM\n",
        ")\n",
        "\n",
        "train(model, criterion, metric, optimizer, EPOCHS_2)"
      ],
      "execution_count": 0,
      "outputs": []
    },
    {
      "cell_type": "code",
      "metadata": {
        "id": "oQI8sgvyBeDr",
        "colab_type": "code",
        "colab": {}
      },
      "source": [
        "with open(PATH_DATASET_TEST, 'r') as file:\n",
        "    dataset = file.readlines()\n",
        "\n",
        "res = []\n",
        "model.eval()\n",
        "with torch.no_grad():\n",
        "    while len(dataset) > 0:\n",
        "        texts, dataset = dataset[:BATCH_SIZE], dataset[BATCH_SIZE:]\n",
        "        texts, masks = text_collate_fn(texts)\n",
        "        texts = texts.to(device)\n",
        "        masks = texts.to(device)\n",
        "\n",
        "        scores = model(texts, masks)\n",
        "        scores = scores.cpu().numpy()\n",
        "        scores = np.around(scores).astype(np.int32) + 1\n",
        "        res += scores.tolist()\n",
        "\n",
        "res = '\\n'.join([str(x) for x in res])\n",
        "with open(PATH_RESULTS, 'w') as file:\n",
        "    file.write(res)"
      ],
      "execution_count": 0,
      "outputs": []
    }
  ]
}