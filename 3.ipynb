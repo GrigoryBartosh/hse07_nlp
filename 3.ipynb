{
  "nbformat": 4,
  "nbformat_minor": 0,
  "metadata": {
    "accelerator": "GPU",
    "colab": {
      "name": "2.ipynb",
      "provenance": [],
      "include_colab_link": true
    },
    "kernelspec": {
      "display_name": "Python 3",
      "language": "python",
      "name": "python3"
    },
    "language_info": {
      "codemirror_mode": {
        "name": "ipython",
        "version": 3
      },
      "file_extension": ".py",
      "mimetype": "text/x-python",
      "name": "python",
      "nbconvert_exporter": "python",
      "pygments_lexer": "ipython3",
      "version": "3.6.6"
    }
  },
  "cells": [
    {
      "cell_type": "markdown",
      "metadata": {
        "id": "view-in-github",
        "colab_type": "text"
      },
      "source": [
        "<a href=\"https://colab.research.google.com/github/GrigoryBartosh/hse07_nlp/blob/master/3.ipynb\" target=\"_parent\"><img src=\"https://colab.research.google.com/assets/colab-badge.svg\" alt=\"Open In Colab\"/></a>"
      ]
    },
    {
      "cell_type": "code",
      "metadata": {
        "colab_type": "code",
        "id": "KEFKJ8N3ASVn",
        "colab": {
          "base_uri": "https://localhost:8080/",
          "height": 397
        },
        "outputId": "ed321ea3-0834-4109-dcdb-2752e7d2d7cf"
      },
      "source": [
        "! pip install transformers"
      ],
      "execution_count": 1,
      "outputs": [
        {
          "output_type": "stream",
          "text": [
            "Requirement already satisfied: transformers in /usr/local/lib/python3.6/dist-packages (2.1.1)\n",
            "Requirement already satisfied: sentencepiece in /usr/local/lib/python3.6/dist-packages (from transformers) (0.1.83)\n",
            "Requirement already satisfied: numpy in /usr/local/lib/python3.6/dist-packages (from transformers) (1.17.4)\n",
            "Requirement already satisfied: sacremoses in /usr/local/lib/python3.6/dist-packages (from transformers) (0.0.35)\n",
            "Requirement already satisfied: boto3 in /usr/local/lib/python3.6/dist-packages (from transformers) (1.10.18)\n",
            "Requirement already satisfied: tqdm in /usr/local/lib/python3.6/dist-packages (from transformers) (4.28.1)\n",
            "Requirement already satisfied: regex in /usr/local/lib/python3.6/dist-packages (from transformers) (2019.11.1)\n",
            "Requirement already satisfied: requests in /usr/local/lib/python3.6/dist-packages (from transformers) (2.21.0)\n",
            "Requirement already satisfied: joblib in /usr/local/lib/python3.6/dist-packages (from sacremoses->transformers) (0.14.0)\n",
            "Requirement already satisfied: click in /usr/local/lib/python3.6/dist-packages (from sacremoses->transformers) (7.0)\n",
            "Requirement already satisfied: six in /usr/local/lib/python3.6/dist-packages (from sacremoses->transformers) (1.12.0)\n",
            "Requirement already satisfied: s3transfer<0.3.0,>=0.2.0 in /usr/local/lib/python3.6/dist-packages (from boto3->transformers) (0.2.1)\n",
            "Requirement already satisfied: botocore<1.14.0,>=1.13.18 in /usr/local/lib/python3.6/dist-packages (from boto3->transformers) (1.13.18)\n",
            "Requirement already satisfied: jmespath<1.0.0,>=0.7.1 in /usr/local/lib/python3.6/dist-packages (from boto3->transformers) (0.9.4)\n",
            "Requirement already satisfied: chardet<3.1.0,>=3.0.2 in /usr/local/lib/python3.6/dist-packages (from requests->transformers) (3.0.4)\n",
            "Requirement already satisfied: certifi>=2017.4.17 in /usr/local/lib/python3.6/dist-packages (from requests->transformers) (2019.9.11)\n",
            "Requirement already satisfied: idna<2.9,>=2.5 in /usr/local/lib/python3.6/dist-packages (from requests->transformers) (2.8)\n",
            "Requirement already satisfied: urllib3<1.25,>=1.21.1 in /usr/local/lib/python3.6/dist-packages (from requests->transformers) (1.24.3)\n",
            "Requirement already satisfied: docutils<0.16,>=0.10 in /usr/local/lib/python3.6/dist-packages (from botocore<1.14.0,>=1.13.18->boto3->transformers) (0.15.2)\n",
            "Requirement already satisfied: python-dateutil<2.8.1,>=2.1; python_version >= \"2.7\" in /usr/local/lib/python3.6/dist-packages (from botocore<1.14.0,>=1.13.18->boto3->transformers) (2.6.1)\n"
          ],
          "name": "stdout"
        }
      ]
    },
    {
      "cell_type": "code",
      "metadata": {
        "colab_type": "code",
        "id": "vxiSNWcvUHxP",
        "colab": {}
      },
      "source": [
        "import os\n",
        "import zipfile\n",
        "\n",
        "import numpy as np\n",
        "from sklearn.model_selection import train_test_split\n",
        "\n",
        "import torch\n",
        "import torch.nn as nn\n",
        "import torch.optim as optim\n",
        "import torch.utils.data as data\n",
        "import torch.nn.functional as F\n",
        "\n",
        "from transformers import BertTokenizer, BertModel\n",
        "\n",
        "from tqdm import tqdm\n",
        "import matplotlib.pyplot as plt\n",
        "\n",
        "import logging\n",
        "logging.basicConfig(level=logging.CRITICAL)\n",
        "\n",
        "PATH_DATASET_1_TEXTS = os.path.join('data', 'train_sentences.txt')\n",
        "PATH_DATASET_1_TEGS = os.path.join('data', 'train_nes.txt')\n",
        "\n",
        "PATH_DATASET_2 = os.path.join('data', 'collection5.zip')\n",
        "DATASET_2_TOKENS_DICT = {'PER': 'PERSON', 'ORG': 'ORG', 'MEDIA': 'ORG'}\n",
        "\n",
        "PATH_DATASET_TEST = os.path.join('data', 'test.txt')\n",
        "PATH_RESULTS = os.path.join('data', 'results.txt')\n",
        "\n",
        "ID_2_TAG = ['PERSON', 'ORG', 'N']\n",
        "TAG_2_ID = dict((t, i) for i, t in enumerate(ID_2_TAG))\n",
        "\n",
        "MAX_TEXT_LEN = 512\n",
        "\n",
        "EPOCHS_1 = 10\n",
        "EPOCHS_2 = 50\n",
        "BATCH_SIZE = 32\n",
        "LEARNING_RATE_1 = 0.0001\n",
        "LEARNING_RATE_2 = 0.00003\n",
        "W_L2_NORM = 0.0\n",
        "\n",
        "device = torch.device('cuda:0' if torch.cuda.is_available() else 'cpu')"
      ],
      "execution_count": 0,
      "outputs": []
    },
    {
      "cell_type": "code",
      "metadata": {
        "id": "YRIEQM9JF68E",
        "colab_type": "code",
        "colab": {}
      },
      "source": [
        "with open(PATH_DATASET_1_TEXTS, 'r') as file:\n",
        "    dataset_1_texts = file.readlines()\n",
        "    dataset_1_texts = [' '.join(t.split('\\n')) for t in dataset_1_texts]\n",
        "    dataset_1_texts = [' '.join(t.split()) for t in dataset_1_texts]\n",
        "    \n",
        "with open(PATH_DATASET_1_TEGS, 'r') as file:\n",
        "    dataset_1_tags = file.readlines()\n",
        "    \n",
        "for i in range(len(dataset_1_tags)):\n",
        "    tags = dataset_1_tags[i].split()[:-1]\n",
        "    tags[::3] = list(map(int, tags[::3]))\n",
        "    tags[1::3] = list(map(int, tags[1::3]))\n",
        "    tags = list(zip(tags[::3], tags[1::3], tags[2::3]))\n",
        "    dataset_1_tags[i] = [(t[0], t[0] + t[1], t[2]) for t in tags]"
      ],
      "execution_count": 0,
      "outputs": []
    },
    {
      "cell_type": "code",
      "metadata": {
        "colab_type": "code",
        "id": "1TTAyNc0psKa",
        "colab": {}
      },
      "source": [
        ""
      ],
      "execution_count": 0,
      "outputs": []
    },
    {
      "cell_type": "code",
      "metadata": {
        "id": "DsMjgaCdF68K",
        "colab_type": "code",
        "colab": {}
      },
      "source": [
        "with zipfile.ZipFile(PATH_DATASET_2) as z:\n",
        "    filenames = z.namelist()[1:]\n",
        "    filenames = set([f[:-4] for f in filenames])\n",
        "\n",
        "    d = DATASET_2_TOKENS_DICT\n",
        "    dataset_2_texts, dataset_2_tags = [], []\n",
        "    for filename in filenames:\n",
        "        with z.open(filename + '.txt', 'r') as file:\n",
        "            text = file.read().decode('utf8')\n",
        "        text = ' '.join(text.split('\\r'))\n",
        "\n",
        "        with z.open(filename + '.ann', 'r') as file:\n",
        "            tags = file.readlines()\n",
        "            tags = [l.decode('utf8') for l in tags]\n",
        "            \n",
        "        tags = [t.split('\\t')[1].split() for t in tags]\n",
        "        tags = [(int(t[1]), int(t[2]), t[0]) for t in tags]\n",
        "        tags = [(t[0], t[1], t[2]) for t in tags]\n",
        "        tags = [(t[0], t[1], d[t[2]]) for t in tags if t[2] in d]\n",
        "\n",
        "        dataset_2_texts.append(text)\n",
        "        dataset_2_tags.append(tags)"
      ],
      "execution_count": 0,
      "outputs": []
    },
    {
      "cell_type": "code",
      "metadata": {
        "id": "6XsBMrKeF68O",
        "colab_type": "code",
        "colab": {}
      },
      "source": [
        "tokenizer = BertTokenizer.from_pretrained(\n",
        "    'bert-base-multilingual-cased',\n",
        "    do_lower_case=False\n",
        ")"
      ],
      "execution_count": 0,
      "outputs": []
    },
    {
      "cell_type": "code",
      "metadata": {
        "id": "mRwIejl9F68S",
        "colab_type": "code",
        "colab": {}
      },
      "source": [
        "def prepare_sample(text, tags, do_split=False):\n",
        "    last_i = 0\n",
        "    data = []\n",
        "    for s, f, tag in tags:\n",
        "        if last_i != s and text[last_i:s] != ' ':\n",
        "            data.append((text[last_i:s], 'N'))\n",
        "            \n",
        "        data.append((text[s:f], tag))\n",
        "        last_i = f\n",
        "        \n",
        "    if last_i != len(text):\n",
        "        data.append((text[last_i:], 'N'))\n",
        "    \n",
        "    tokens, labels = [], []\n",
        "    for s, t in data:\n",
        "        new_tokens = tokenizer.tokenize(s)\n",
        "        labels += [t] * len(new_tokens)\n",
        "        tokens += new_tokens\n",
        "    \n",
        "    length = np.random.randint(30, 130)    \n",
        "    if do_split and len(tokens) > length:\n",
        "        part_length = length // 3\n",
        "        stride = 3 * part_length\n",
        "        nrow = np.ceil(len(tokens) / part_length) - 2\n",
        "        indexes = part_length * np.arange(nrow)[:, None] + np.arange(stride)\n",
        "        indexes = indexes.astype(np.int32)\n",
        "\n",
        "        max_indexe = indexes.max()\n",
        "        diff = max_indexe + 1 - len(tokens)\n",
        "        tokens += int(diff > 0) * [tokenizer.sep_token] + \\\n",
        "                  max(0, diff - 1) * [tokenizer.pad_token]\n",
        "        labels += diff * ['N']\n",
        "\n",
        "        tokens = np.array(tokens)[indexes].tolist()\n",
        "        labels = np.array(labels)[indexes].tolist()\n",
        "    else:\n",
        "        tokens = [tokens]\n",
        "        labels = [labels]\n",
        "        \n",
        "    for i in range(len(tokens)):\n",
        "        tokens[i] = [tokenizer.cls_token] + tokens[i]\n",
        "        labels[i] = ['N'] + labels[i]\n",
        "        \n",
        "        if tokens[i][-1] not in [tokenizer.sep_token, tokenizer.pad_token]:\n",
        "            tokens[i] = tokens[i] + [tokenizer.sep_token]\n",
        "            labels[i] = labels[i] + ['N']\n",
        "\n",
        "    return tokens, labels"
      ],
      "execution_count": 0,
      "outputs": []
    },
    {
      "cell_type": "code",
      "metadata": {
        "id": "HQOrYKNIF68W",
        "colab_type": "code",
        "colab": {}
      },
      "source": [
        "dataset_tokens, dataset_labels = [], []\n",
        "\n",
        "for text, tags in zip(dataset_1_texts, dataset_1_tags):\n",
        "    tokens, labels = prepare_sample(text, tags, do_split=False)\n",
        "    dataset_tokens += tokens\n",
        "    dataset_labels += labels\n",
        "    \n",
        "for text, tags in zip(dataset_2_texts, dataset_2_tags):\n",
        "    tokens, labels = prepare_sample(text, tags, do_split=True)\n",
        "    dataset_tokens += tokens\n",
        "    dataset_labels += labels\n",
        "    \n",
        "x_train, x_val, y_train, y_val = train_test_split(\n",
        "    dataset_tokens, dataset_labels, test_size=0.1)\n",
        "train_data = list(zip(x_train, y_train))\n",
        "val_data = list(zip(x_val, y_val))"
      ],
      "execution_count": 0,
      "outputs": []
    },
    {
      "cell_type": "code",
      "metadata": {
        "colab_type": "code",
        "id": "cNaV7dtKyYVk",
        "colab": {}
      },
      "source": [
        "def text_collate_fn(texts):\n",
        "    max_len = max([len(text) for text in texts])\n",
        "    lens = [text.index(tokenizer.sep_token) + 1 for text in texts]\n",
        "    masks = [[1] * l + [0] * (max_len - l) for text, l in zip(texts, lens)]\n",
        "    texts = [text + [tokenizer.pad_token] * (max_len - len(text)) for text in texts]\n",
        "    texts = [tokenizer.convert_tokens_to_ids(text) for text in texts]\n",
        "    texts = torch.LongTensor(texts)\n",
        "    masks = torch.LongTensor(masks)\n",
        "\n",
        "    return texts, masks\n",
        "\n",
        "def collate_fn(data):\n",
        "    texts, labels = zip(*data)\n",
        "\n",
        "    texts, masks = text_collate_fn(texts)\n",
        "\n",
        "    max_len = max([len(l) for l in labels])\n",
        "    labels = [l + ['N'] * (max_len - len(l)) for l in labels]\n",
        "    labels = [[TAG_2_ID[l] for l in tags] for tags in labels]\n",
        "    labels = torch.LongTensor(labels)\n",
        "    \n",
        "    return texts, masks, labels\n",
        "\n",
        "train_data_loader = data.DataLoader(\n",
        "    dataset=train_data,\n",
        "    batch_size=BATCH_SIZE,\n",
        "    shuffle=True,\n",
        "    collate_fn=collate_fn\n",
        ")\n",
        "val_data_loader = data.DataLoader(\n",
        "    dataset=val_data,\n",
        "    batch_size=BATCH_SIZE,\n",
        "    shuffle=False,\n",
        "    collate_fn=collate_fn\n",
        ")"
      ],
      "execution_count": 0,
      "outputs": []
    },
    {
      "cell_type": "code",
      "metadata": {
        "colab_type": "code",
        "id": "OX5tyt31ASV4",
        "colab": {}
      },
      "source": [
        "class TextClassifier(nn.Module):\n",
        "    def __init__(self):\n",
        "        super(TextClassifier, self).__init__()\n",
        "        \n",
        "        self.bert = BertModel.from_pretrained('bert-base-multilingual-cased')\n",
        "\n",
        "        for param in self.bert.parameters():\n",
        "            param.requires_grad = False\n",
        "\n",
        "        layers = [\n",
        "            nn.Linear(768, 128),\n",
        "            nn.ReLU(),\n",
        "            nn.Dropout(p=0.5),\n",
        "            nn.Linear(128, 32),\n",
        "            nn.ReLU(),\n",
        "            nn.Dropout(p=0.3),\n",
        "            nn.Linear(32, 16),\n",
        "            nn.ReLU(),\n",
        "            nn.Dropout(p=0.2),\n",
        "            nn.Linear(16, 3)\n",
        "        ]\n",
        "        self.layers = nn.Sequential(*layers)\n",
        "\n",
        "    def forward(self, text, mask):\n",
        "        x = self.bert(text, attention_mask=mask)[0]\n",
        "        x = self.layers(x)\n",
        "        x = x.permute(0, 2, 1)\n",
        "        return x"
      ],
      "execution_count": 0,
      "outputs": []
    },
    {
      "cell_type": "code",
      "metadata": {
        "colab_type": "code",
        "id": "qV3ME8x9ASV7",
        "colab": {}
      },
      "source": [
        "def train(model, criterion, optimizer, epochs):\n",
        "    losses_train = []\n",
        "    losses_val = []\n",
        "    for _ in tqdm(range(epochs)):\n",
        "        losses = []\n",
        "        model.train()\n",
        "        for texts, masks, labels in train_data_loader:\n",
        "            texts = texts.to(device)\n",
        "            masks = masks.to(device)\n",
        "            labels = labels.to(device)\n",
        "            \n",
        "            optimizer.zero_grad()\n",
        "\n",
        "            ps = model(texts, masks)\n",
        "            loss = criterion(ps, labels)\n",
        "\n",
        "            losses.append(loss.item())\n",
        "\n",
        "            loss.backward()\n",
        "            optimizer.step()\n",
        "\n",
        "        losses_train.append(np.array(losses).mean())\n",
        "\n",
        "        losses = []\n",
        "        model.eval()\n",
        "        with torch.no_grad():\n",
        "            for texts, masks, labels in val_data_loader:\n",
        "                texts = texts.to(device)\n",
        "                masks = masks.to(device)\n",
        "                labels = labels.to(device)\n",
        "                \n",
        "                ps = model(texts, masks)\n",
        "                loss = criterion(ps, labels)\n",
        "\n",
        "                losses.append(loss.item())\n",
        "\n",
        "        losses_val.append(np.array(losses).mean())\n",
        "\n",
        "    plt.plot(range(epochs), losses_train, label=\"train\")\n",
        "    plt.plot(range(epochs), losses_val, label=\"val\")\n",
        "    plt.xlabel('epoch num')\n",
        "    plt.ylabel('loss')\n",
        "    plt.legend()\n",
        "    plt.show()"
      ],
      "execution_count": 0,
      "outputs": []
    },
    {
      "cell_type": "code",
      "metadata": {
        "colab_type": "code",
        "id": "hrhrRW2mASV_",
        "colab": {
          "base_uri": "https://localhost:8080/",
          "height": 297
        },
        "outputId": "3ace9b2d-445f-4e72-db61-41c6b2cb6db6"
      },
      "source": [
        "model = TextClassifier()\n",
        "model.to(device)\n",
        "\n",
        "criterion = nn.CrossEntropyLoss()\n",
        "\n",
        "optimizer = optim.Adam(\n",
        "    filter(lambda p: p.requires_grad, model.parameters()),\n",
        "    LEARNING_RATE_1,\n",
        "    weight_decay=W_L2_NORM\n",
        ")\n",
        "\n",
        "train(model, criterion, optimizer, EPOCHS_1)"
      ],
      "execution_count": 13,
      "outputs": [
        {
          "output_type": "stream",
          "text": [
            "100%|██████████| 10/10 [16:21<00:00, 98.16s/it]\n"
          ],
          "name": "stderr"
        },
        {
          "output_type": "display_data",
          "data": {
            "image/png": "[encoded data removed]",
            "text/plain": [
              "<Figure size 432x288 with 1 Axes>"
            ]
          },
          "metadata": {
            "tags": []
          }
        }
      ]
    },
    {
      "cell_type": "code",
      "metadata": {
        "colab_type": "code",
        "id": "h2y5i6l3eR0i",
        "colab": {}
      },
      "source": [
        "for param in model.parameters():\n",
        "    param.requires_grad = True\n",
        "\n",
        "optimizer = optim.Adam(\n",
        "    filter(lambda p: p.requires_grad, model.parameters()),\n",
        "    LEARNING_RATE_2,\n",
        "    weight_decay=W_L2_NORM\n",
        ")\n",
        "\n",
        "train(model, criterion, metric, optimizer, EPOCHS_2)"
      ],
      "execution_count": 0,
      "outputs": []
    },
    {
      "cell_type": "code",
      "metadata": {
        "colab_type": "code",
        "id": "oQI8sgvyBeDr",
        "colab": {
          "base_uri": "https://localhost:8080/",
          "height": 334
        },
        "outputId": "745669ac-f122-42b6-a3e3-8761192a8c7a"
      },
      "source": [
        "with open(PATH_DATASET_TEST, 'r') as file:\n",
        "    dataset = file.readlines()\n",
        "    dataset = [' '.join(t.split('\\n')) for t in dataset]\n",
        "    dataset = [' '.join(t.split()) for t in dataset]\n",
        "\n",
        "for text in dataset:\n",
        "    prepare_test(text)\n",
        "\n",
        "'''\n",
        "res = []\n",
        "model.eval()\n",
        "with torch.no_grad():\n",
        "    while len(dataset) > 0:\n",
        "        texts, dataset = dataset[:BATCH_SIZE], dataset[BATCH_SIZE:]\n",
        "        texts, masks = text_collate_fn(texts)\n",
        "        texts = texts.to(device)\n",
        "        masks = texts.to(device)\n",
        "\n",
        "        scores = model(texts, masks)\n",
        "        scores = scores.cpu().numpy()\n",
        "        scores = np.around(scores).astype(np.int32) + 1\n",
        "        res += scores.tolist()\n",
        "\n",
        "res = '\\n'.join([str(x) for x in res])\n",
        "with open(PATH_RESULTS, 'w') as file:\n",
        "    file.write(res)\n",
        "'''"
      ],
      "execution_count": 42,
      "outputs": [
        {
          "output_type": "error",
          "ename": "AssertionError",
          "evalue": "ignored",
          "traceback": [
            "\u001b[0;31m---------------------------------------------------------------------------\u001b[0m",
            "\u001b[0;31mAssertionError\u001b[0m                            Traceback (most recent call last)",
            "\u001b[0;32m<ipython-input-42-e4670dcb7018>\u001b[0m in \u001b[0;36m<module>\u001b[0;34m()\u001b[0m\n\u001b[1;32m      5\u001b[0m \u001b[0;34m\u001b[0m\u001b[0m\n\u001b[1;32m      6\u001b[0m \u001b[0;32mfor\u001b[0m \u001b[0mtext\u001b[0m \u001b[0;32min\u001b[0m \u001b[0mdataset\u001b[0m\u001b[0;34m:\u001b[0m\u001b[0;34m\u001b[0m\u001b[0;34m\u001b[0m\u001b[0m\n\u001b[0;32m----> 7\u001b[0;31m     \u001b[0mprepare_test\u001b[0m\u001b[0;34m(\u001b[0m\u001b[0mtext\u001b[0m\u001b[0;34m)\u001b[0m\u001b[0;34m\u001b[0m\u001b[0;34m\u001b[0m\u001b[0m\n\u001b[0m\u001b[1;32m      8\u001b[0m \u001b[0;34m\u001b[0m\u001b[0m\n\u001b[1;32m      9\u001b[0m '''\n",
            "\u001b[0;32m<ipython-input-40-311e43cba8da>\u001b[0m in \u001b[0;36mprepare_test\u001b[0;34m(text)\u001b[0m\n\u001b[1;32m     17\u001b[0m \u001b[0;34m\u001b[0m\u001b[0m\n\u001b[1;32m     18\u001b[0m     \u001b[0;32mfor\u001b[0m \u001b[0mt\u001b[0m\u001b[0;34m,\u001b[0m \u001b[0;34m(\u001b[0m\u001b[0ms\u001b[0m\u001b[0;34m,\u001b[0m \u001b[0mf\u001b[0m\u001b[0;34m)\u001b[0m \u001b[0;32min\u001b[0m \u001b[0mzip\u001b[0m\u001b[0;34m(\u001b[0m\u001b[0mtokens\u001b[0m\u001b[0;34m,\u001b[0m \u001b[0mposes\u001b[0m\u001b[0;34m)\u001b[0m\u001b[0;34m:\u001b[0m\u001b[0;34m\u001b[0m\u001b[0;34m\u001b[0m\u001b[0m\n\u001b[0;32m---> 19\u001b[0;31m         \u001b[0;32massert\u001b[0m \u001b[0mt\u001b[0m \u001b[0;34m!=\u001b[0m \u001b[0mtext\u001b[0m\u001b[0;34m[\u001b[0m\u001b[0ms\u001b[0m\u001b[0;34m:\u001b[0m\u001b[0mf\u001b[0m\u001b[0;34m]\u001b[0m\u001b[0;34m\u001b[0m\u001b[0;34m\u001b[0m\u001b[0m\n\u001b[0m",
            "\u001b[0;31mAssertionError\u001b[0m: "
          ]
        }
      ]
    }
  ]
}